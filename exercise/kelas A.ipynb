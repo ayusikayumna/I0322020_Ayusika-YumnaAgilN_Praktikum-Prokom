{
 "cells": [
  {
   "cell_type": "code",
   "execution_count": 1,
   "metadata": {},
   "outputs": [
    {
     "name": "stdout",
     "output_type": "stream",
     "text": [
      "Ayusika Yumna Agil Nabillah\n",
      "I0322020\n",
      "A\n"
     ]
    }
   ],
   "source": [
    "print(input(\"Nama: \"))\n",
    "print(input(\"NIM: \"))\n",
    "print(input(\"Kelas: \"))"
   ]
  },
  {
   "attachments": {},
   "cell_type": "markdown",
   "metadata": {},
   "source": [
    "## 1."
   ]
  },
  {
   "attachments": {},
   "cell_type": "markdown",
   "metadata": {},
   "source": [
    "buatlah program sederhana untuk menghitung umur pengguna dengan ketentuan sebagai berikut :\n",
    "* Program meminta pengguna memasukan tanggal, bulan, dan tahun lahir\n",
    "* Program menghitung umur pengguna hingga tanggal 1 januari 2023\n",
    "* Program menampilkan umur dari pengguna"
   ]
  },
  {
   "cell_type": "code",
   "execution_count": 11,
   "metadata": {},
   "outputs": [
    {
     "name": "stdout",
     "output_type": "stream",
     "text": [
      "Umur Anda pada 1 Januari 2023 adalah 18 tahun.\n"
     ]
    }
   ],
   "source": [
    "# import library datetime untuk mengolah tanggal \n",
    "import datetime\n",
    "\n",
    "# meminta pengguna memasukkan tanggal, bulan, dan tahun lahir\n",
    "tanggal_lahir = int(input(\"Masukkan tanggal lahir Anda:\"))\n",
    "bulan_lahir = int(input(\"Masukkan bulan lahir Anda:\"))\n",
    "tahun_lahir = int(input(\"Masukkan tahun lahir Anda\"))\n",
    "\n",
    "# menghitung umur pengguna hingga tanggal 1 Januari 2023\n",
    "tanggal_hari_ini = datetime.date(2023, 1, 1)\n",
    "tanggal_lahir = (datetime.date(tahun_lahir, bulan_lahir, tanggal_lahir))\n",
    "umur = (tanggal_hari_ini - tanggal_lahir)// datetime.timedelta(days=365)\n",
    "\n",
    "# menampilkan umur pengguna\n",
    "print(\"Umur Anda pada 1 Januari 2023 adalah\", umur, \"tahun.\")"
   ]
  },
  {
   "attachments": {},
   "cell_type": "markdown",
   "metadata": {},
   "source": [
    "## 2."
   ]
  },
  {
   "attachments": {},
   "cell_type": "markdown",
   "metadata": {},
   "source": [
    "Pada 2015, wabah flu burung menyerang Indonesia dan beberapa peternak ayam mengalami kerugian karena banyaknya ayam yang mati. Setiap bulan, jumlah ayamnya berkurang menjadi setengah. Setelah dua bulan, jumlah ayam yang tersisa adalah 200 ekor. Hitunglah jumlah ayam sebelumnya yang dimiliki peternak tersebut! (gunakan rumus deret geometri)\n",
    "\n",
    "> *note: SOAL DIATAS DIKERJAKAN SESUAI DENGAN RUMUS BAKU*"
   ]
  },
  {
   "cell_type": "code",
   "execution_count": 1,
   "metadata": {},
   "outputs": [
    {
     "name": "stdout",
     "output_type": "stream",
     "text": [
      "Jumlah akhir ayam adalah =  200\n",
      "Jumlah awal ayam =  800.0\n"
     ]
    }
   ],
   "source": [
    "ayam_yang_tersisa = 200 #jumlah ayam sekarang\n",
    "waktu = 2 #2 Bulan\n",
    "\n",
    "# Rumus Baku\n",
    "# Un = a*r**(n-1)\n",
    "# a = jumlah awal ayam\n",
    "# r = 1/2\n",
    "# n-1 = 2\n",
    "# a = Un/(r**(n-1))\n",
    "\n",
    "a = 200/((1/2)**2)\n",
    "print(\"Jumlah akhir ayam adalah = \", ayam_yang_tersisa)\n",
    "print(\"Jumlah awal ayam = \", a)"
   ]
  },
  {
   "attachments": {},
   "cell_type": "markdown",
   "metadata": {},
   "source": [
    "## 3. "
   ]
  },
  {
   "attachments": {},
   "cell_type": "markdown",
   "metadata": {},
   "source": [
    "* **A** Hitunglah luas Prisma Segitiga dengan ketentuan sebagai berikut:\n",
    "    * Alas dan tutup prisma merupakan segitiga\n",
    "    * Terdapat 3 persegi panjang yang menyinggung alas dan tutup prisma\n",
    "    * Sisi persegi panjang yang menyinggung segitiga adalah sisi lebar\n",
    "```python\n",
    "    dictionary_figure = {\"Persegi\":{\"Sisi\":22},\n",
    "                        \"Persegi Panjang\":{\"Panjang\":10,\"Lebar\":5},\n",
    "                        \"Segitiga Sama Sisi\":{\"Sisi\":6,\"Tinggi\":3**(1/2) * 3},\n",
    "                        \"Lingkaran\":{\"Diameter\":7}}\n",
    "```\n",
    "* **B** Hitunglah luas Tabung dengan ketentuan sebagai berikut:\n",
    "    * Alas dan tutup tabung merupakan lingkaran\n",
    "    * Terdapat 1 persegi yang menyinggung alas dan tutup tabung\n",
    "    * Persegi yang ada mengelilingi lingkaran hingga sisi dari persegi saling bertemu\n",
    "\n",
    "> *note: Pada soal ini kalian hanya boleh menggunakan key-value pair dan index pada list. Tidak diperbolehkan menulis secara langsung dimensi dari figure*"
   ]
  },
  {
   "cell_type": "code",
   "execution_count": 3,
   "metadata": {},
   "outputs": [],
   "source": [
    "dictionary_figure = {\"Persegi\":{\"Sisi\":22},\n",
    "                    'Persegi Panjang' : {\"Panjang\":10, \"Lebar\":5},\n",
    "                    'Segitiga Sama Sisi' : {\"Sisi\":6, \"Tinggi\":3**(1/2)*3},\n",
    "                    'Lingkaran' : {\"Diameter\":7}}"
   ]
  },
  {
   "cell_type": "code",
   "execution_count": 4,
   "metadata": {},
   "outputs": [
    {
     "name": "stdout",
     "output_type": "stream",
     "text": [
      "Luas prisma segitiga adalah: 181.1769145362398\n",
      " Luas tabung adalah:  561.0\n"
     ]
    }
   ],
   "source": [
    "# definisi nilai lebar persegi panjang, tinggi segitiga, sisi segitiga\n",
    "lebar_persegi_panjang = dictionary_figure[\"Persegi Panjang\"][\"Lebar\"]\n",
    "tinggi_segitiga = dictionary_figure[\"Segitiga Sama Sisi\"][\"Tinggi\"]\n",
    "panjang_persegi_panjang = dictionary_figure[\"Persegi Panjang\"][\"Panjang\"]\n",
    "sisi_segitiga = dictionary_figure[\"Segitiga Sama Sisi\"][\"Sisi\"]\n",
    "\n",
    "# menghitung luas segitiga dan luas persegi panjang \n",
    "L_segitiga = 1/2 * sisi_segitiga * tinggi_segitiga\n",
    "L_persegi_panjang = panjang_persegi_panjang * lebar_persegi_panjang\n",
    "\n",
    "# menghitung luas prisma segitiga \n",
    "L_prisma = 2 * L_segitiga + 3 * L_persegi_panjang \n",
    "\n",
    "# print nilai luas prima segitiga\n",
    "print(\"Luas prisma segitiga adalah:\", L_prisma)\n",
    "\n",
    "# definisi nilai dari diameter lingkaran dan pi\n",
    "d_lingkaran = dictionary_figure[\"Lingkaran\"][\"Diameter\"]\n",
    "pi = 22/7 \n",
    "\n",
    "# menghitung keliling tabung\n",
    "keliling_lingkaran = pi * d_lingkaran\n",
    "\n",
    "# menghitung luas selimut tabung\n",
    "L_selimut_tabung = keliling_lingkaran * keliling_lingkaran\n",
    "\n",
    "# menghitung luas lingkaran\n",
    "L_lingkaran = 1/4 * pi * d_lingkaran **2 \n",
    "\n",
    "# menghitung luas tabung\n",
    "L_tabung = 2 * L_lingkaran + L_selimut_tabung\n",
    "\n",
    "#mencetak luas tabung\n",
    "print(\" Luas tabung adalah: \", L_tabung)"
   ]
  }
 ],
 "metadata": {
  "kernelspec": {
   "display_name": "Python 3",
   "language": "python",
   "name": "python3"
  },
  "language_info": {
   "codemirror_mode": {
    "name": "ipython",
    "version": 3
   },
   "file_extension": ".py",
   "mimetype": "text/x-python",
   "name": "python",
   "nbconvert_exporter": "python",
   "pygments_lexer": "ipython3",
   "version": "3.11.2"
  },
  "orig_nbformat": 4,
  "vscode": {
   "interpreter": {
    "hash": "5addf786bcd861d1ce5006f23111f8cbb206731e5b61b0a5632ba9e0252558a8"
   }
  }
 },
 "nbformat": 4,
 "nbformat_minor": 2
}
