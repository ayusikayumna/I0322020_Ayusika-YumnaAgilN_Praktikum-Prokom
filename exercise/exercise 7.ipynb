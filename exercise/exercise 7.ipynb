{
 "cells": [
  {
   "cell_type": "code",
   "execution_count": 2,
   "metadata": {},
   "outputs": [
    {
     "data": {
      "text/plain": [
       "[['2', '3', '4'], ['5', '2', '5']]"
      ]
     },
     "execution_count": 2,
     "metadata": {},
     "output_type": "execute_result"
    }
   ],
   "source": [
    "#Buatlah sebuah fungsi untuk membuat matrix berdasarkan input dari user\n",
    "\n",
    "def create_matrix(baris, kolom):\n",
    "    matrix = []\n",
    "    for i in range(baris):\n",
    "        row = []\n",
    "        for j in range(kolom):\n",
    "            elemen = input(f\"masukkan elemen matrix pada baris{i+1} dan kolom{j+1}: \")\n",
    "            row.append(elemen)\n",
    "        matrix.append(row)\n",
    "    return matrix\n",
    "\n",
    "    print(\"matriks yang dibuat: \")\n",
    "    for row in matrix:\n",
    "        for elemen in row:\n",
    "            print(elemen, end=\" \")\n",
    "        print()\n",
    "\n",
    "baris = int(input(\"masukkan jumlah baris:\\t\"))\n",
    "kolom = int(input(\"masukkan jumlah kolom:\\t\"))\n",
    "\n",
    "create_matrix(baris, kolom)"
   ]
  },
  {
   "cell_type": "code",
   "execution_count": 2,
   "metadata": {},
   "outputs": [
    {
     "name": "stdout",
     "output_type": "stream",
     "text": [
      "Hasil penjumlahan kedua matriks:\n",
      "6 8 \n",
      "5 8 \n"
     ]
    }
   ],
   "source": [
    "#Buatlah sebuah fungsi untuk menambah dua matrix berdasarkan input user\n",
    "\n",
    "def tambah_matriks():\n",
    "    baris = int(input(\"Masukkan jumlah baris matrix: \"))\n",
    "    kolom = int(input(\"Masukkan jumlah kolom matrix: \"))\n",
    "\n",
    "    matrix1 = []\n",
    "    for i in range(baris):\n",
    "        row = []\n",
    "        for j in range(kolom):\n",
    "            elemen1 = int(input('Masukkan elemen matrix pertama: '))\n",
    "            row.append(elemen1)\n",
    "        matrix1.append(row)\n",
    "\n",
    "    matrix2 = []\n",
    "    for i in range(baris):\n",
    "        row = []\n",
    "        for j in range(kolom):\n",
    "            elemen2 = int(input('Masukkan elemen matrix kedua: '))\n",
    "            row.append(elemen2)\n",
    "            matrix2.append(row)\n",
    "\n",
    "    tambah = []\n",
    "    for i in range(baris):\n",
    "        row = []\n",
    "        for j in range(kolom):\n",
    "            elemen = matrix1[i][j] + matrix2[i][j]\n",
    "            row.append(elemen)\n",
    "        tambah.append(row)\n",
    "\n",
    "    print(\"Hasil penjumlahan kedua matriks:\")\n",
    "    for row in tambah:\n",
    "        for elemen in row:\n",
    "            print(elemen, end=\" \")\n",
    "        print()\n",
    "\n",
    "tambah_matriks()"
   ]
  },
  {
   "cell_type": "code",
   "execution_count": 3,
   "metadata": {},
   "outputs": [
    {
     "name": "stdout",
     "output_type": "stream",
     "text": [
      "Hasil penjumlahan kedua matriks:\n",
      "1 8 \n",
      "4 12 \n",
      "10 15 \n"
     ]
    }
   ],
   "source": [
    "#Buatlah fungsi untuk mengakalikan dua buah matrix berdasarkan input user\n",
    "\n",
    "def tambah_matriks():\n",
    "    baris = int(input(\"Masukkan jumlah baris matrix: \"))\n",
    "    kolom = int(input(\"Masukkan jumlah kolom matrix: \"))\n",
    "\n",
    "    matrix1 = []\n",
    "    for i in range(baris):\n",
    "        row = []\n",
    "        for j in range(kolom):\n",
    "            elemen1 = int(input('Masukkan elemen matrix pertama: '))\n",
    "            row.append(elemen1)\n",
    "        matrix1.append(row)\n",
    "\n",
    "    matrix2 = []\n",
    "    for i in range(baris):\n",
    "        row = []\n",
    "        for j in range(kolom):\n",
    "            elemen2 = int(input('Masukkan elemen matrix kedua: '))\n",
    "            row.append(elemen2)\n",
    "            matrix2.append(row)\n",
    "\n",
    "    tambah = []\n",
    "    for i in range(baris):\n",
    "        row = []\n",
    "        for j in range(kolom):\n",
    "            elemen = matrix1[i][j] * matrix2[i][j]\n",
    "            row.append(elemen)\n",
    "        tambah.append(row)\n",
    "\n",
    "    print(\"Hasil penjumlahan kedua matriks:\")\n",
    "    for row in tambah:\n",
    "        for elemen in row:\n",
    "            print(elemen, end=\" \")\n",
    "        print()\n",
    "\n",
    "tambah_matriks()"
   ]
  }
 ],
 "metadata": {
  "kernelspec": {
   "display_name": "Python 3",
   "language": "python",
   "name": "python3"
  },
  "language_info": {
   "codemirror_mode": {
    "name": "ipython",
    "version": 3
   },
   "file_extension": ".py",
   "mimetype": "text/x-python",
   "name": "python",
   "nbconvert_exporter": "python",
   "pygments_lexer": "ipython3",
   "version": "3.11.2"
  },
  "orig_nbformat": 4
 },
 "nbformat": 4,
 "nbformat_minor": 2
}
